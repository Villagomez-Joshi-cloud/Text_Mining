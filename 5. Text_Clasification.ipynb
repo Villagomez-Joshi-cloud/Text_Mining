{
 "cells": [
  {
   "cell_type": "markdown",
   "metadata": {},
   "source": [
    "# **Text Classification**\n",
    "\n",
    "In this module the professor did not provide notebook sample. thefore, I will create this. \n",
    "\n",
    "Class Structure has been:\n",
    "\n",
    "1. intro to Text Analytics \n",
    "2. Text Transformation (2. and 3.)\n",
    "3. Vector Space Model (4. TF & DF)\n",
    "4. Text Classification \n",
    "5. Sentiment Analysis (6., 7. and 8.)\n",
    "6. Text Clustering "
   ]
  },
  {
   "cell_type": "code",
   "execution_count": null,
   "metadata": {},
   "outputs": [],
   "source": []
  }
 ],
 "metadata": {
  "kernelspec": {
   "display_name": "Python 3",
   "language": "python",
   "name": "python3"
  },
  "language_info": {
   "codemirror_mode": {
    "name": "ipython",
    "version": 3
   },
   "file_extension": ".py",
   "mimetype": "text/x-python",
   "name": "python",
   "nbconvert_exporter": "python",
   "pygments_lexer": "ipython3",
   "version": "3.6.5"
  }
 },
 "nbformat": 4,
 "nbformat_minor": 2
}
