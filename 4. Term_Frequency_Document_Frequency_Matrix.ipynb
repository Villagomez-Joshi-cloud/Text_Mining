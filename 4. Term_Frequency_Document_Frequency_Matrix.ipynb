{
 "cells": [
  {
   "cell_type": "code",
   "execution_count": 1,
   "metadata": {
    "colab": {},
    "colab_type": "code",
    "id": "KwMwUN9v3KjG"
   },
   "outputs": [],
   "source": [
    "#import some libraries\n",
    "import nltk\n",
    "from pprint import pprint\n",
    "import csv\n",
    "from typing import List\n",
    "import re\n",
    "from collections import Counter\n",
    "import numpy as np\n"
   ]
  },
  {
   "cell_type": "code",
   "execution_count": 2,
   "metadata": {
    "colab": {
     "base_uri": "https://localhost:8080/",
     "height": 139
    },
    "colab_type": "code",
    "id": "O_l0KWnrpDfD",
    "outputId": "9e1be7f4-eebc-49b9-a763-b40b1a9bf0a1"
   },
   "outputs": [
    {
     "name": "stdout",
     "output_type": "stream",
     "text": [
      "['review', 'sentiment']\n",
      "[\"One of the other reviewers has mentioned that after watching just 1 Oz episode you'll be hooked. They are right, as this is exactly what happened with me.<br /><br />The first thing that struck me about Oz was its brutality and unflinching scenes of violence, which set in right from the word GO. Trust me, this is not a show for the faint hearted or timid. This show pulls no punches with regards to drugs, sex or violence. Its is hardcore, in the classic use of the word.<br /><br />It is called OZ as that is the nickname given to the Oswald Maximum Security State Penitentary. It focuses mainly on Emerald City, an experimental section of the prison where all the cells have glass fronts and face inwards, so privacy is not high on the agenda. Em City is home to many..Aryans, Muslims, gangstas, Latinos, Christians, Italians, Irish and more....so scuffles, death stares, dodgy dealings and shady agreements are never far away.<br /><br />I would say the main appeal of the show is due to the fact that it goes where other shows wouldn't dare. Forget pretty pictures painted for mainstream audiences, forget charm, forget romance...OZ doesn't mess around. The first episode I ever saw struck me as so nasty it was surreal, I couldn't say I was ready for it, but as I watched more, I developed a taste for Oz, and got accustomed to the high levels of graphic violence. Not just violence, but injustice (crooked guards who'll be sold out for a nickel, inmates who'll kill on order and get away with it, well mannered, middle class inmates being turned into prison bitches due to their lack of street skills or prison experience) Watching Oz, you may become comfortable with what is uncomfortable viewing....thats if you can get in touch with your darker side.\", 'positive']\n",
      "['A wonderful little production. <br /><br />The filming technique is very unassuming- very old-time-BBC fashion and gives a comforting, and sometimes discomforting, sense of realism to the entire piece. <br /><br />The actors are extremely well chosen- Michael Sheen not only \"has got all the polari\" but he has all the voices down pat too! You can truly see the seamless editing guided by the references to Williams\\' diary entries, not only is it well worth the watching but it is a terrificly written and performed piece. A masterful production about one of the great master\\'s of comedy and his life. <br /><br />The realism really comes home with the little things: the fantasy of the guard which, rather than use the traditional \\'dream\\' techniques remains solid then disappears. It plays on our knowledge and our senses, particularly with the scenes concerning Orton and Halliwell and the sets (particularly of their flat with Halliwell\\'s murals decorating every surface) are terribly well done.', 'positive']\n",
      "['I thought this was a wonderful way to spend time on a too hot summer weekend, sitting in the air conditioned theater and watching a light-hearted comedy. The plot is simplistic, but the dialogue is witty and the characters are likable (even the well bread suspected serial killer). While some may be disappointed when they realize this is not Match Point 2: Risk Addiction, I thought it was proof that Woody Allen is still fully in control of the style many of us have grown to love.<br /><br />This was the most I\\'d laughed at one of Woody\\'s comedies in years (dare I say a decade?). While I\\'ve never been impressed with Scarlet Johanson, in this she managed to tone down her \"sexy\" image and jumped right into a average, but spirited young woman.<br /><br />This may not be the crown jewel of his career, but it was wittier than \"Devil Wears Prada\" and more interesting than \"Superman\" a great comedy to go see with friends.', 'positive']\n",
      "[\"Basically there's a family where a little boy (Jake) thinks there's a zombie in his closet & his parents are fighting all the time.<br /><br />This movie is slower than a soap opera... and suddenly, Jake decides to become Rambo and kill the zombie.<br /><br />OK, first of all when you're going to make a film you must Decide if its a thriller or a drama! As a drama the movie is watchable. Parents are divorcing & arguing like in real life. And then we have Jake with his closet which totally ruins all the film! I expected to see a BOOGEYMAN similar movie, and instead i watched a drama with some meaningless thriller spots.<br /><br />3 out of 10 just for the well playing parents & descent dialogs. As for the shots with Jake: just ignore them.\", 'negative']\n",
      "['Petter Mattei\\'s \"Love in the Time of Money\" is a visually stunning film to watch. Mr. Mattei offers us a vivid portrait about human relations. This is a movie that seems to be telling us what money, power and success do to people in the different situations we encounter. <br /><br />This being a variation on the Arthur Schnitzler\\'s play about the same theme, the director transfers the action to the present time New York where all these different characters meet and connect. Each one is connected in one way, or another to the next person, but no one seems to know the previous point of contact. Stylishly, the film has a sophisticated luxurious look. We are taken to see how these people live and the world they live in their own habitat.<br /><br />The only thing one gets out of all these souls in the picture is the different stages of loneliness each one inhabits. A big city is not exactly the best place in which human relations find sincere fulfillment, as one discerns is the case with most of the people we encounter.<br /><br />The acting is good under Mr. Mattei\\'s direction. Steve Buscemi, Rosario Dawson, Carol Kane, Michael Imperioli, Adrian Grenier, and the rest of the talented cast, make these characters come alive.<br /><br />We wish Mr. Mattei good luck and await anxiously for his next work.', 'positive']\n"
     ]
    }
   ],
   "source": [
    "# Data Download Link\n",
    "# https://www.kaggle.com/lakshmi25npathi/imdb-dataset-of-50k-movie-reviews/data#IMDB%20Dataset.csv\n",
    "# sample data:\n",
    "ctr = 0\n",
    "with open(\"IMDB Dataset.csv\", newline=\"\") as csvfile:\n",
    "    movie_data = csv.reader(csvfile, delimiter=\",\")\n",
    "    for row in movie_data:\n",
    "        if ctr > 5:\n",
    "            break\n",
    "        print(row)\n",
    "        ctr += 1\n"
   ]
  },
  {
   "cell_type": "code",
   "execution_count": 3,
   "metadata": {
    "colab": {},
    "colab_type": "code",
    "id": "nXlcOr18reRI"
   },
   "outputs": [],
   "source": [
    "def simple_tokenizer(text: str) -> List[str]:\n",
    "    # Looking at the text we see that <br></br> which is HTML tag for line break can be a good splitter\n",
    "    # A sentence (atleast well structured) often has a full spot at the end. We use these two for word breaks\n",
    "    pattern1 = re.compile(\"<br /><br />|\\.\")\n",
    "    lines = re.split(pattern1, text)\n",
    "    # you can break a sentence into words using whitespace based split\n",
    "    tokens = []\n",
    "    for line in lines:\n",
    "        tokens += line.split(\" \")\n",
    "\n",
    "    # lowercase and remove any non-alphanumeric characters from tokens for normalize\n",
    "    norrmalized_tokens = [re.sub(r\"\\W+\", \"\", token.lower()) for token in tokens]\n",
    "    return norrmalized_tokens\n"
   ]
  },
  {
   "cell_type": "code",
   "execution_count": 4,
   "metadata": {
    "colab": {
     "base_uri": "https://localhost:8080/",
     "height": 51
    },
    "colab_type": "code",
    "id": "Xd7ksW-8tPEJ",
    "outputId": "4663c381-fd74-4b7a-f0c6-7dd4bbe79044"
   },
   "outputs": [
    {
     "name": "stdout",
     "output_type": "stream",
     "text": [
      "[nltk_data] Downloading package stopwords to C:\\Users\\leonel\n",
      "[nltk_data]     villagomez\\AppData\\Roaming\\nltk_data...\n",
      "[nltk_data]   Package stopwords is already up-to-date!\n"
     ]
    }
   ],
   "source": [
    "#remove stop-words\n",
    "from nltk.corpus import stopwords # library \n",
    "nltk.download('stopwords')\n",
    "all_stopwords = set(stopwords.words('english')) # set the language "
   ]
  },
  {
   "cell_type": "code",
   "execution_count": 8,
   "metadata": {
    "colab": {},
    "colab_type": "code",
    "id": "Mcc0cgjnpOWt"
   },
   "outputs": [
    {
     "ename": "UnicodeDecodeError",
     "evalue": "'charmap' codec can't decode byte 0x81 in position 6237: character maps to <undefined>",
     "output_type": "error",
     "traceback": [
      "\u001b[1;31m---------------------------------------------------------------------------\u001b[0m",
      "\u001b[1;31mUnicodeDecodeError\u001b[0m                        Traceback (most recent call last)",
      "\u001b[1;32m<ipython-input-8-a8d61a86a2b5>\u001b[0m in \u001b[0;36m<module>\u001b[1;34m()\u001b[0m\n\u001b[0;32m      4\u001b[0m \u001b[1;32mwith\u001b[0m \u001b[0mopen\u001b[0m\u001b[1;33m(\u001b[0m\u001b[1;34m\"IMDB Dataset.csv\"\u001b[0m\u001b[1;33m,\u001b[0m \u001b[0mnewline\u001b[0m\u001b[1;33m=\u001b[0m\u001b[1;34m\"\"\u001b[0m\u001b[1;33m)\u001b[0m \u001b[1;32mas\u001b[0m \u001b[0mcsvfile\u001b[0m\u001b[1;33m:\u001b[0m\u001b[1;33m\u001b[0m\u001b[0m\n\u001b[0;32m      5\u001b[0m     \u001b[0mmovie_data\u001b[0m \u001b[1;33m=\u001b[0m \u001b[0mcsv\u001b[0m\u001b[1;33m.\u001b[0m\u001b[0mreader\u001b[0m\u001b[1;33m(\u001b[0m\u001b[0mcsvfile\u001b[0m\u001b[1;33m,\u001b[0m \u001b[0mdelimiter\u001b[0m\u001b[1;33m=\u001b[0m\u001b[1;34m\",\"\u001b[0m\u001b[1;33m)\u001b[0m\u001b[1;33m\u001b[0m\u001b[0m\n\u001b[1;32m----> 6\u001b[1;33m     \u001b[1;32mfor\u001b[0m \u001b[0mrow\u001b[0m \u001b[1;32min\u001b[0m \u001b[0mmovie_data\u001b[0m\u001b[1;33m:\u001b[0m\u001b[1;33m\u001b[0m\u001b[0m\n\u001b[0m\u001b[0;32m      7\u001b[0m         \u001b[1;32mif\u001b[0m \u001b[0mrow\u001b[0m\u001b[1;33m[\u001b[0m\u001b[1;36m0\u001b[0m\u001b[1;33m]\u001b[0m \u001b[1;33m==\u001b[0m \u001b[1;34m\"review\"\u001b[0m\u001b[1;33m:\u001b[0m\u001b[1;33m\u001b[0m\u001b[0m\n\u001b[0;32m      8\u001b[0m             \u001b[1;32mcontinue\u001b[0m\u001b[1;33m\u001b[0m\u001b[0m\n",
      "\u001b[1;32m~\\Anaconda3\\lib\\encodings\\cp1252.py\u001b[0m in \u001b[0;36mdecode\u001b[1;34m(self, input, final)\u001b[0m\n\u001b[0;32m     21\u001b[0m \u001b[1;32mclass\u001b[0m \u001b[0mIncrementalDecoder\u001b[0m\u001b[1;33m(\u001b[0m\u001b[0mcodecs\u001b[0m\u001b[1;33m.\u001b[0m\u001b[0mIncrementalDecoder\u001b[0m\u001b[1;33m)\u001b[0m\u001b[1;33m:\u001b[0m\u001b[1;33m\u001b[0m\u001b[0m\n\u001b[0;32m     22\u001b[0m     \u001b[1;32mdef\u001b[0m \u001b[0mdecode\u001b[0m\u001b[1;33m(\u001b[0m\u001b[0mself\u001b[0m\u001b[1;33m,\u001b[0m \u001b[0minput\u001b[0m\u001b[1;33m,\u001b[0m \u001b[0mfinal\u001b[0m\u001b[1;33m=\u001b[0m\u001b[1;32mFalse\u001b[0m\u001b[1;33m)\u001b[0m\u001b[1;33m:\u001b[0m\u001b[1;33m\u001b[0m\u001b[0m\n\u001b[1;32m---> 23\u001b[1;33m         \u001b[1;32mreturn\u001b[0m \u001b[0mcodecs\u001b[0m\u001b[1;33m.\u001b[0m\u001b[0mcharmap_decode\u001b[0m\u001b[1;33m(\u001b[0m\u001b[0minput\u001b[0m\u001b[1;33m,\u001b[0m\u001b[0mself\u001b[0m\u001b[1;33m.\u001b[0m\u001b[0merrors\u001b[0m\u001b[1;33m,\u001b[0m\u001b[0mdecoding_table\u001b[0m\u001b[1;33m)\u001b[0m\u001b[1;33m[\u001b[0m\u001b[1;36m0\u001b[0m\u001b[1;33m]\u001b[0m\u001b[1;33m\u001b[0m\u001b[0m\n\u001b[0m\u001b[0;32m     24\u001b[0m \u001b[1;33m\u001b[0m\u001b[0m\n\u001b[0;32m     25\u001b[0m \u001b[1;32mclass\u001b[0m \u001b[0mStreamWriter\u001b[0m\u001b[1;33m(\u001b[0m\u001b[0mCodec\u001b[0m\u001b[1;33m,\u001b[0m\u001b[0mcodecs\u001b[0m\u001b[1;33m.\u001b[0m\u001b[0mStreamWriter\u001b[0m\u001b[1;33m)\u001b[0m\u001b[1;33m:\u001b[0m\u001b[1;33m\u001b[0m\u001b[0m\n",
      "\u001b[1;31mUnicodeDecodeError\u001b[0m: 'charmap' codec can't decode byte 0x81 in position 6237: character maps to <undefined>"
     ]
    }
   ],
   "source": [
    "#  Tokenize each review using simple tokenizer\n",
    "#  like before and remove stopwords\n",
    "reviews_list = []\n",
    "with open(\"IMDB Dataset.csv\", newline=\"\") as csvfile:\n",
    "    movie_data = csv.reader(csvfile, delimiter=\",\")\n",
    "    for row in movie_data:\n",
    "        if row[0] == \"review\":\n",
    "            continue\n",
    "        review_text = row[0]\n",
    "        tokens = simple_tokenizer(review_text)\n",
    "        # Remove stopwords\n",
    "        clean_tokens = [\n",
    "            tokens\n",
    "            for tokens in tokens\n",
    "            if tokens not in all_stopwords and len(tokens) > 1\n",
    "        ]\n",
    "        reviews_list.append(clean_tokens)\n"
   ]
  },
  {
   "cell_type": "code",
   "execution_count": null,
   "metadata": {
    "colab": {
     "base_uri": "https://localhost:8080/",
     "height": 88
    },
    "colab_type": "code",
    "id": "0SyEzQ2WsV9a",
    "outputId": "3ad94040-c929-4bee-ab17-88a6b620408c"
   },
   "outputs": [],
   "source": [
    "# the end result is a map with key as review_id and value as review\n",
    "pprint('number of reviews:' + str(len(reviews_list)))\n",
    "pprint('sample row:')\n",
    "print(reviews_list[0])"
   ]
  },
  {
   "cell_type": "code",
   "execution_count": 9,
   "metadata": {
    "colab": {},
    "colab_type": "code",
    "id": "G1-J2JCSrA9p"
   },
   "outputs": [],
   "source": [
    "# Identify unique tokens count their term frequency in each review and document frequency\n",
    "tf_dict = {}  # data structure to hold term frequencies in each reviews\n",
    "df_dict = (\n",
    "    Counter()\n",
    ")  # data structure to hold document frequency. You can read more about 'Counters' here: https://docs.python.org/3.1/library/collections.html\n",
    "# token_counter=0\n",
    "for review_id, review_tokens in enumerate(reviews_list):\n",
    "    tf_dict[review_id] = Counter()\n",
    "    for token in review_tokens:\n",
    "        if token not in df_dict:\n",
    "            df_dict[token] = 1\n",
    "        if token in tf_dict[review_id]:\n",
    "            tf_dict[review_id][token] += 1\n",
    "        else:\n",
    "            tf_dict[review_id][token] = 1\n",
    "            df_dict[token] += 1\n"
   ]
  },
  {
   "cell_type": "code",
   "execution_count": 10,
   "metadata": {
    "colab": {
     "base_uri": "https://localhost:8080/",
     "height": 34
    },
    "colab_type": "code",
    "id": "15qZx7JPbw7b",
    "outputId": "68c3b70d-a3cf-41e2-e06a-339f7275eac8"
   },
   "outputs": [
    {
     "name": "stdout",
     "output_type": "stream",
     "text": [
      "'number of unique tokens: 22888'\n"
     ]
    }
   ],
   "source": [
    "pprint(\"number of unique tokens: \" + str(len(df_dict)))"
   ]
  },
  {
   "cell_type": "code",
   "execution_count": 11,
   "metadata": {
    "colab": {
     "base_uri": "https://localhost:8080/",
     "height": 312
    },
    "colab_type": "code",
    "id": "9ZE6ZA7m2HVl",
    "outputId": "6b63add2-e949-4bdb-83ea-72236d9017f4"
   },
   "outputs": [
    {
     "data": {
      "text/plain": [
       "(0.0, 100)"
      ]
     },
     "execution_count": 11,
     "metadata": {},
     "output_type": "execute_result"
    }
   ],
   "source": [
    "\n",
    "# since the numberof unqiue words is too high. We plot histogram to see extremly common\n",
    "# or extremely rare tokens\n",
    "import matplotlib.pyplot as plt\n",
    "\n",
    "\n",
    "n, bins, patches = plt.hist(x=list(df_dict.values()), bins=1000, color=\"#0504aa\")\n",
    "plt.grid(axis=\"y\", alpha=0.75)\n",
    "plt.xlabel(\"term frequency\")\n",
    "plt.ylabel(\"Count\")\n",
    "plt.title(\"Document Frequency of Tokens\")\n",
    "maxfreq = n.max()\n",
    "# Set a clean upper y-axis limit.\n",
    "plt.ylim(ymax=100)\n"
   ]
  },
  {
   "cell_type": "code",
   "execution_count": 12,
   "metadata": {
    "colab": {
     "base_uri": "https://localhost:8080/",
     "height": 408
    },
    "colab_type": "code",
    "id": "Uyc6IHHNs-YD",
    "outputId": "569c5c72-4e8e-4791-dc4b-373e338a185a"
   },
   "outputs": [
    {
     "name": "stdout",
     "output_type": "stream",
     "text": [
      "'number of unique tokens after trimming: 199'\n",
      "'most frequent tokens'\n",
      "[('movie', 854),\n",
      " ('film', 759),\n",
      " ('one', 748),\n",
      " ('like', 632),\n",
      " ('good', 486),\n",
      " ('see', 470),\n",
      " ('even', 460),\n",
      " ('would', 456),\n",
      " ('time', 444),\n",
      " ('really', 429)]\n",
      "'least frequent tokens'\n",
      "[('shot', 100),\n",
      " ('actor', 100),\n",
      " ('remember', 100),\n",
      " ('completely', 101),\n",
      " ('put', 101),\n",
      " ('left', 101),\n",
      " ('help', 101),\n",
      " ('rest', 101),\n",
      " ('dvd', 102),\n",
      " ('simply', 102)]\n"
     ]
    }
   ],
   "source": [
    "# remove tokens which are extremely common or extremely rare\n",
    "lower_count_thr = 100 # rare words/tokens\n",
    "upper_count_thr = 5000 # frequent/common tokens\n",
    "trim_df_dict = Counter(\n",
    "    {\n",
    "        token: df_dict[token]\n",
    "        for token in df_dict\n",
    "        if lower_count_thr <= df_dict[token] <= upper_count_thr\n",
    "    }\n",
    ")\n",
    "pprint(\"number of unique tokens after trimming: \" + str(len(trim_df_dict)))\n",
    "pprint(\"most frequent tokens\")\n",
    "pprint(trim_df_dict.most_common(10))\n",
    "pprint(\"least frequent tokens\")\n",
    "pprint(trim_df_dict.most_common()[:-11:-1])\n"
   ]
  },
  {
   "cell_type": "code",
   "execution_count": 13,
   "metadata": {
    "colab": {},
    "colab_type": "code",
    "id": "Rn3CjoIwTaGk"
   },
   "outputs": [],
   "source": [
    "# create token to id maps\n",
    "token_to_id_dict = {\n",
    "    token: index for index, token in enumerate(trim_df_dict)\n",
    "}  # http://book.pythontips.com/en/latest/enumerate.html\n",
    "id_to_token_dict = {index: token for index, token in enumerate(trim_df_dict)}\n",
    "tf_idf_values = []\n",
    "N = len(reviews_list)\n",
    "# we are ready to compute tfidf\n",
    "from math import log\n",
    "\n",
    "\n",
    "tf_idf_lists = []\n",
    "\n",
    "ctr = 0\n",
    "for review_id, review_tokens in enumerate(reviews_list):\n",
    "\n",
    "    # since its not advised to hold full tf-idf dictionary due to limited  RAM, we only compute\n",
    "    # tf-idf of top 1000 reviews. IN practice the vectors are dumped to storage (a file)\n",
    "    # line by line\n",
    "    if ctr > 1000:\n",
    "        break\n",
    "    ctr += 1\n",
    "    tf_idf_list = [0] * len(token_to_id_dict)\n",
    "    for token in review_tokens:\n",
    "        if token not in token_to_id_dict:\n",
    "            continue\n",
    "        token_id = token_to_id_dict[token]\n",
    "        # TFIDF formula\n",
    "        if token not in tf_dict[review_id]:\n",
    "            continue\n",
    "        tf = tf_dict[review_id][token]\n",
    "        idf = log(N / df_dict[token], 10)  # log to base 10\n",
    "        tf_idf = tf * idf\n",
    "        tf_idf_list[token_id] = tf_idf\n",
    "        tf_idf_values.append(tf_idf)\n",
    "    tf_idf_lists.append(tf_idf_list)\n"
   ]
  },
  {
   "cell_type": "code",
   "execution_count": 14,
   "metadata": {
    "colab": {
     "base_uri": "https://localhost:8080/",
     "height": 187
    },
    "colab_type": "code",
    "id": "bkPS69MIW2jf",
    "outputId": "a7b41c01-d0e3-4a4c-b480-91d0c7379961"
   },
   "outputs": [
    {
     "name": "stdout",
     "output_type": "stream",
     "text": [
      "[1.9128607911750006,\n",
      " 0.608656996381193,\n",
      " 0.49656814630934365,\n",
      " 0.7956462533758027,\n",
      " 2.080294790936013,\n",
      " 0.7046184225937008,\n",
      " 0.6756037860118062,\n",
      " 0.4811932847423893,\n",
      " 0.5584903869154628,\n",
      " 1.9299483382615878]\n"
     ]
    }
   ],
   "source": [
    "# print sample tfidf vector values\n",
    "review_id =2\n",
    "tf_idf_vector = [tf_idf_lists[review_id][index] for index in [token_to_id_dict[token] for token in tf_dict[review_id] if token in token_to_id_dict]]\n",
    "pprint(tf_idf_vector[:10])"
   ]
  },
  {
   "cell_type": "code",
   "execution_count": 15,
   "metadata": {},
   "outputs": [
    {
     "name": "stdout",
     "output_type": "stream",
     "text": [
      "{2, 4, 5}\n"
     ]
    }
   ],
   "source": [
    "s = {2,5,4}\n",
    "print(s)"
   ]
  },
  {
   "cell_type": "code",
   "execution_count": null,
   "metadata": {},
   "outputs": [],
   "source": [
    "term = sunshine\n",
    "count = 20 \n",
    "N = 1000\n",
    "DF = 20 \n",
    "\n"
   ]
  }
 ],
 "metadata": {
  "colab": {
   "collapsed_sections": [],
   "name": "Term Frequency - Document Frequency Matrix ",
   "provenance": []
  },
  "kernelspec": {
   "display_name": "Python 3",
   "language": "python",
   "name": "python3"
  },
  "language_info": {
   "codemirror_mode": {
    "name": "ipython",
    "version": 3
   },
   "file_extension": ".py",
   "mimetype": "text/x-python",
   "name": "python",
   "nbconvert_exporter": "python",
   "pygments_lexer": "ipython3",
   "version": "3.6.5"
  }
 },
 "nbformat": 4,
 "nbformat_minor": 1
}
